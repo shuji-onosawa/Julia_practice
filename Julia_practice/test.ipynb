{
 "cells": [
  {
   "cell_type": "markdown",
   "metadata": {},
   "source": [
    "## データ型と変数\n",
    "\n"
   ]
  },
  {
   "cell_type": "code",
   "execution_count": 1,
   "metadata": {},
   "outputs": [
    {
     "name": "stdout",
     "output_type": "stream",
     "text": [
      "エンゲル係数\n"
     ]
    }
   ],
   "source": [
    "x0 = \"エンゲル\"\n",
    "y0 = \"係数\"\n",
    "z0 = x0 * y0\n",
    "println(z0)"
   ]
  },
  {
   "cell_type": "code",
   "execution_count": 2,
   "metadata": {},
   "outputs": [
    {
     "ename": "MethodError",
     "evalue": "MethodError: no method matching *(::String, ::Float64)\nClosest candidates are:\n  *(::Any, ::Any, !Matched::Any, !Matched::Any...) at operators.jl:529\n  *(!Matched::Bool, ::T) where T<:AbstractFloat at bool.jl:110\n  *(!Matched::Float64, ::Float64) at float.jl:405\n  ...",
     "output_type": "error",
     "traceback": [
      "MethodError: no method matching *(::String, ::Float64)\n",
      "Closest candidates are:\n",
      "  *(::Any, ::Any, !Matched::Any, !Matched::Any...) at operators.jl:529\n",
      "  *(!Matched::Bool, ::T) where T<:AbstractFloat at bool.jl:110\n",
      "  *(!Matched::Float64, ::Float64) at float.jl:405\n",
      "  ...\n",
      "\n",
      "Stacktrace:\n",
      " [1] top-level scope at /Document/Julia/Julia_practice/test.ipynb:4"
     ]
    }
   ],
   "source": [
    "s1 = 100000\n",
    "s2 = 40000\n",
    "x1 = s2*100/s1\n",
    "z1 = \"エンゲル係数は \" * x1\n",
    "println(z1)"
   ]
  },
  {
   "cell_type": "code",
   "execution_count": 3,
   "metadata": {},
   "outputs": [
    {
     "name": "stdout",
     "output_type": "stream",
     "text": [
      "エンゲル係数は 40.0\n"
     ]
    }
   ],
   "source": [
    "s1 = 100000\n",
    "s2 = 40000\n",
    "x1 = s2*100/s1\n",
    "z1 = \"エンゲル係数は \" * string(x1)\n",
    "println(z1)"
   ]
  },
  {
   "cell_type": "code",
   "execution_count": 4,
   "metadata": {},
   "outputs": [
    {
     "name": "stdout",
     "output_type": "stream",
     "text": [
      "エンゲル係数は40.0"
     ]
    },
    {
     "name": "stdout",
     "output_type": "stream",
     "text": [
      "\n"
     ]
    }
   ],
   "source": [
    "println(\"エンゲル係数は\", x1)"
   ]
  },
  {
   "cell_type": "code",
   "execution_count": 5,
   "metadata": {},
   "outputs": [
    {
     "name": "stdout",
     "output_type": "stream",
     "text": [
      "エンゲル係数は 40.0\n"
     ]
    }
   ],
   "source": [
    "println(\"エンゲル係数は $x1\")"
   ]
  },
  {
   "cell_type": "markdown",
   "metadata": {},
   "source": [
    "## 数学関数"
   ]
  },
  {
   "cell_type": "code",
   "execution_count": 14,
   "metadata": {},
   "outputs": [
    {
     "data": {
      "text/plain": [
       "(π, 1.0, 0, 16331239353195370)"
      ]
     },
     "metadata": {},
     "output_type": "display_data"
    }
   ],
   "source": [
    "pi, sin(pi/2), round(Int,cos(pi/2)), round(Int, tan(pi/2))"
   ]
  },
  {
   "cell_type": "markdown",
   "metadata": {},
   "source": [
    "## 数値の丸め\n",
    "#### 端数がちょうど 0.5 のときに切り上げて 四捨五入 の動作をさせるには，round() 関数に以下のように RoundNearestTiesUp オプションをつけます。"
   ]
  },
  {
   "cell_type": "code",
   "execution_count": 15,
   "metadata": {},
   "outputs": [
    {
     "data": {
      "text/plain": [
       "(12, 13)"
      ]
     },
     "metadata": {},
     "output_type": "display_data"
    }
   ],
   "source": [
    "round(Int, 12.50), round(Int, 12.50, RoundNearestTiesUp)"
   ]
  },
  {
   "cell_type": "markdown",
   "metadata": {},
   "source": [
    "for 文"
   ]
  },
  {
   "cell_type": "code",
   "execution_count": 18,
   "metadata": {},
   "outputs": [
    {
     "name": "stdout",
     "output_type": "stream",
     "text": [
      "消費支出 100000円に対するエンゲル係数の値\n",
      "   飲食費 40000円の場合: 40.0\n",
      "   飲食費 50000円の場合: 50.0\n",
      "   飲食費 60000円の場合: 60.0\n",
      "   飲食費 70000円の場合: 70.0\n",
      "   飲食費 80000円の場合: 80.0\n"
     ]
    }
   ],
   "source": [
    "function calc(y1, y2)\n",
    "    # 消費支出 s1 円と飲食費 s2 円からエンゲル係数を計算する。\n",
    "    return y2*100/y1\n",
    "end\n",
    "\n",
    "s1 = 100000\n",
    "s2 = 40000\n",
    "println(\"消費支出 \",s1,\"円に対するエンゲル係数の値\")\n",
    "\n",
    "for s2 = 40000:10000:80000\n",
    "    x1 = calc(s1, s2)\n",
    "    println(\"   飲食費 \", s2, \"円の場合: \", x1)\n",
    "    #s2 = s2 + 5000\n",
    "end"
   ]
  },
  {
   "cell_type": "code",
   "execution_count": 22,
   "metadata": {},
   "outputs": [
    {
     "data": {
      "text/plain": [
       "385"
      ]
     },
     "metadata": {},
     "output_type": "display_data"
    }
   ],
   "source": [
    "function sigma()\n",
    "    S = 0\n",
    "    for i in 1:10\n",
    "        S += i^2\n",
    "    end\n",
    "    return S\n",
    "end \n",
    "\n",
    "sigma()"
   ]
  },
  {
   "cell_type": "code",
   "execution_count": null,
   "metadata": {},
   "outputs": [],
   "source": []
  }
 ],
 "metadata": {
  "kernelspec": {
   "display_name": "Julia 1.4.1",
   "language": "julia",
   "name": "julia-1.4"
  },
  "language_info": {
   "file_extension": ".jl",
   "mimetype": "application/julia",
   "name": "julia",
   "version": "1.4.1"
  },
  "orig_nbformat": 4
 },
 "nbformat": 4,
 "nbformat_minor": 2
}
